{
 "cells": [
  {
   "cell_type": "code",
   "execution_count": 1,
   "metadata": {},
   "outputs": [],
   "source": [
    "import xlrd\n",
    "book = xlrd.open_workbook(filename='data/Fatura-Excel-2.xls')\n",
    "sh = book.sheet_by_index(0)\n",
    "#print(\"Rows: {0} / Cols: {1}\".format(sh.nrows, sh.ncols))"
   ]
  },
  {
   "cell_type": "code",
   "execution_count": 2,
   "metadata": {},
   "outputs": [
    {
     "name": "stdout",
     "output_type": "stream",
     "text": [
      "30/03/2023 - Drogaria Araujo - 99.0\n",
      "31/03/2023 - Vila Fernanda - 207.25\n",
      "01/04/2023 - Jl Cafeteria Eireli Ep - 305.0\n",
      "06/04/2023 - Centauro Bh Shopping - 29.97\n",
      "09/04/2023 - Posto 500 - 217.44\n",
      "11/04/2023 - Posto Hugo Werneck - 260.69\n",
      "15/04/2023 - Serena Mall - 4.0\n",
      "15/04/2023 - Serene Lanches - 15.0\n",
      "18/04/2023 - Pag*padariabonissima - 12.89\n",
      "19/04/2023 - Super Nosso - 25.99\n",
      "20/04/2023 - Estapar Arena Mineirao - 60.0\n",
      "21/04/2023 - Bem - Vila Da Serra - 206.93\n",
      "22/04/2023 - Supermercado E Padaria - 144.33\n",
      "23/04/2023 - Jl Cafeteria Eireli Ep - 301.95\n",
      "27/04/2023 - Bem - Vila Da Serra - 131.65\n",
      "29/03/2023 - Supermercado-ct - 240.96\n",
      "30/03/2023 - Carrefour Bh-ct - 230.46\n",
      "01/04/2023 - Bem - Vila D-ct Rra - 98.82\n",
      "01/04/2023 - Centauro Ce4-ct - 129.99\n",
      "05/04/2023 - Supermercado-ct - 534.52\n",
      "06/04/2023 - Mart Plus Lj-ct - 92.0\n",
      "06/04/2023 - Loja Multi H-ct - 16.9\n",
      "06/04/2023 - Chaveiro Bel-ct Re - 16.0\n",
      "14/04/2023 - Supermercado-ct Adaria - 204.95\n",
      "25/04/2023 - Bem - Vila D-ct Rra - 143.0\n",
      "25/04/2023 - Pag*julianaaraujode - 100.0\n",
      "09/02/2023 - Parc=104mercadopag03/04 - 50.02\n",
      "01/04/2023 - Multiplan Administrado - 14.4\n",
      "06/04/2023 - Multiplan Administrado - 11.49\n",
      "08/04/2023 - Mercadolivre*mmmov01/10 - 75.09\n",
      "19/04/2023 - Cobasi Bh Belvedere S - 148.41\n",
      "22/04/2023 - Multiplan Administrado - 7.66\n",
      "01/04/2023 - Zp          *sympla - 316.25\n",
      "19/04/2023 - Uhuu        *wo1  01/04 - 330.0\n",
      "28/04/2023 - Juros De Financiamento - 46.62\n"
     ]
    }
   ],
   "source": [
    "ler_linha = False\n",
    "for rx in range(0, sh.nrows):\n",
    "    linha = sh.row_values(rx, 0, 4)\n",
    "    if ler_linha:\n",
    "        if sh.cell_type(rx, 0) == xlrd.XL_CELL_EMPTY or sh.cell_type(rx, 0) == xlrd.XL_CELL_BLANK:\n",
    "            ler_linha = False\n",
    "        else:\n",
    "            data = linha[0]\n",
    "            lancamento = linha[1]\n",
    "            valor = linha[3]\n",
    "            print(\"{0} - {1} - {2}\".format(data, lancamento, valor))\n",
    "    elif linha[0] == 'data' and linha[1] == 'lançamento' and linha[3] == 'valor' and ler_linha == False:\n",
    "        ler_linha = True"
   ]
  }
 ],
 "metadata": {
  "kernelspec": {
   "display_name": ".venv",
   "language": "python",
   "name": "python3"
  },
  "language_info": {
   "codemirror_mode": {
    "name": "ipython",
    "version": 3
   },
   "file_extension": ".py",
   "mimetype": "text/x-python",
   "name": "python",
   "nbconvert_exporter": "python",
   "pygments_lexer": "ipython3",
   "version": "3.10.6"
  },
  "orig_nbformat": 4
 },
 "nbformat": 4,
 "nbformat_minor": 2
}
